{
 "cells": [
  {
   "cell_type": "code",
   "execution_count": 2,
   "metadata": {
    "collapsed": true
   },
   "outputs": [],
   "source": [
    "import numpy as np\n",
    "import scipy.io\n",
    "from sklearn import svm\n",
    "from sklearn.model_selection import train_test_split\n",
    "from sklearn.naive_bayes import GaussianNB\n",
    "import matplotlib.pyplot as plt\n",
    "from sklearn.datasets.samples_generator import make_blobs"
   ]
  },
  {
   "cell_type": "code",
   "execution_count": 7,
   "metadata": {
    "scrolled": true
   },
   "outputs": [],
   "source": [
    "data = scipy.io.loadmat('CSE391_classificatin_project.mat')\n"
   ]
  },
  {
   "cell_type": "code",
   "execution_count": 4,
   "metadata": {
    "scrolled": false
   },
   "outputs": [],
   "source": [
    "x=np.array(data['X'])\n",
    "y=np.array(data['Y'])\n",
    "\n",
    "a=x[:,0:200]\n",
    "x2=x[:,200:250]\n"
   ]
  },
  {
   "cell_type": "code",
   "execution_count": 6,
   "metadata": {},
   "outputs": [
    {
     "data": {
      "text/plain": [
       "[array([[  8.06810755,   8.68378066,   9.03603538, ...,   8.62574683,\n",
       "           7.32338808,   8.85225046],\n",
       "        [  9.10024051,   9.29675748,   9.13315789, ...,   8.86710542,\n",
       "           9.0436417 ,   9.24401817],\n",
       "        [  7.99888768,   9.16280419,   7.92995488, ...,   8.79053324,\n",
       "           7.92713912,   7.99760178],\n",
       "        ..., \n",
       "        [ 11.96229191,  11.3006365 ,  10.99010212, ...,  13.01950982,\n",
       "          12.07316303,  12.04570684],\n",
       "        [  5.17228748,   5.87869837,   5.08580279, ...,   3.64996029,\n",
       "           4.39022056,   4.24928604],\n",
       "        [  6.03922615,   8.77264053,   6.2486354 , ...,   7.38501508,\n",
       "           5.03747887,   6.73195571]]),\n",
       " array([[  5.03922615,  -1.04751733,   1.13316893, ...,   2.64085226,\n",
       "           5.96659427,   3.2083924 ],\n",
       "        [  0.95173698,   1.53744518,   7.50919539, ...,  -1.26603834,\n",
       "           7.50919539,   1.88647211],\n",
       "        [  9.07329728,   9.7395479 ,   9.85539629, ...,   9.56764393,\n",
       "           9.23135848,   9.01058741],\n",
       "        ..., \n",
       "        [ 12.99538924,  13.27347364,  12.32298251, ...,  13.78712536,\n",
       "          12.74559427,  13.40996688],\n",
       "        [  8.4870393 ,   8.28785179,   8.26244114, ...,   8.83593891,\n",
       "           9.26550675,   8.53751778],\n",
       "        [  7.50919539,  -1.04751733,   7.50919539, ...,  -1.26603834,\n",
       "          -1.15232373,  -0.11356691]])]"
      ]
     },
     "execution_count": 6,
     "metadata": {},
     "output_type": "execute_result"
    }
   ],
   "source": [
    "xtrain, xtest, train_labels, test_labels = train_test_split(a,\n",
    "                                                          x2,\n",
    "                                                          test_size=0.33,\n",
    "                                                          random_state=42)\n",
    "train_test_split(xtrain, shuffle=True)"
   ]
  },
  {
   "cell_type": "code",
   "execution_count": null,
   "metadata": {
    "collapsed": true
   },
   "outputs": [],
   "source": [
    "\n"
   ]
  },
  {
   "cell_type": "code",
   "execution_count": null,
   "metadata": {
    "collapsed": true
   },
   "outputs": [],
   "source": []
  },
  {
   "cell_type": "code",
   "execution_count": null,
   "metadata": {
    "collapsed": true
   },
   "outputs": [],
   "source": []
  },
  {
   "cell_type": "code",
   "execution_count": null,
   "metadata": {
    "collapsed": true
   },
   "outputs": [],
   "source": []
  },
  {
   "cell_type": "code",
   "execution_count": null,
   "metadata": {
    "collapsed": true
   },
   "outputs": [],
   "source": []
  },
  {
   "cell_type": "code",
   "execution_count": null,
   "metadata": {
    "collapsed": true
   },
   "outputs": [],
   "source": []
  }
 ],
 "metadata": {
  "kernelspec": {
   "display_name": "Python 3",
   "language": "python",
   "name": "python3"
  },
  "language_info": {
   "codemirror_mode": {
    "name": "ipython",
    "version": 3
   },
   "file_extension": ".py",
   "mimetype": "text/x-python",
   "name": "python",
   "nbconvert_exporter": "python",
   "pygments_lexer": "ipython3",
   "version": "3.6.3"
  }
 },
 "nbformat": 4,
 "nbformat_minor": 2
}
